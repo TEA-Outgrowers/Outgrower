{
  "metadata": {
    "language_info": {
      "codemirror_mode": {
        "name": "python",
        "version": 3
      },
      "file_extension": ".py",
      "mimetype": "text/x-python",
      "name": "python",
      "nbconvert_exporter": "python",
      "pygments_lexer": "ipython3",
      "version": "3.8"
    },
    "kernelspec": {
      "name": "python",
      "display_name": "Python (Pyodide)",
      "language": "python"
    }
  },
  "nbformat_minor": 4,
  "nbformat": 4,
  "cells": [
    {
      "cell_type": "code",
      "source": "# Proyecto Outgrower ",
      "metadata": {
        "trusted": true
      },
      "execution_count": 7,
      "outputs": []
    },
    {
      "cell_type": "code",
      "source": "import pandas as pd",
      "metadata": {
        "trusted": true
      },
      "execution_count": 8,
      "outputs": []
    },
    {
      "cell_type": "code",
      "source": "from matplotlib import pyplot as plt",
      "metadata": {
        "trusted": true
      },
      "execution_count": 9,
      "outputs": []
    },
    {
      "cell_type": "code",
      "source": "germ = pd.read_csv(\"germination.csv\") ",
      "metadata": {
        "trusted": true
      },
      "execution_count": 10,
      "outputs": []
    },
    {
      "cell_type": "code",
      "source": "germ",
      "metadata": {
        "trusted": true
      },
      "execution_count": 11,
      "outputs": [
        {
          "execution_count": 11,
          "output_type": "execute_result",
          "data": {
            "text/plain": "     Unnamed: 0  temp species  start   end  germinated\n0             1    10   wheat      0   1.0           0\n1             2    10   wheat      1   2.0           0\n2             3    10   wheat      2   3.0           0\n3             4    10   wheat      3   4.0           0\n4             5    10   wheat      4   5.0           0\n..          ...   ...     ...    ...   ...         ...\n187         188    40    rice     13  14.0           0\n188         189    40    rice     14  16.0           0\n189         190    40    rice     16  17.0           0\n190         191    40    rice     17  18.0           0\n191         192    40    rice     18   inf          12\n\n[192 rows x 6 columns]",
            "text/html": "<div>\n<style scoped>\n    .dataframe tbody tr th:only-of-type {\n        vertical-align: middle;\n    }\n\n    .dataframe tbody tr th {\n        vertical-align: top;\n    }\n\n    .dataframe thead th {\n        text-align: right;\n    }\n</style>\n<table border=\"1\" class=\"dataframe\">\n  <thead>\n    <tr style=\"text-align: right;\">\n      <th></th>\n      <th>Unnamed: 0</th>\n      <th>temp</th>\n      <th>species</th>\n      <th>start</th>\n      <th>end</th>\n      <th>germinated</th>\n    </tr>\n  </thead>\n  <tbody>\n    <tr>\n      <th>0</th>\n      <td>1</td>\n      <td>10</td>\n      <td>wheat</td>\n      <td>0</td>\n      <td>1.0</td>\n      <td>0</td>\n    </tr>\n    <tr>\n      <th>1</th>\n      <td>2</td>\n      <td>10</td>\n      <td>wheat</td>\n      <td>1</td>\n      <td>2.0</td>\n      <td>0</td>\n    </tr>\n    <tr>\n      <th>2</th>\n      <td>3</td>\n      <td>10</td>\n      <td>wheat</td>\n      <td>2</td>\n      <td>3.0</td>\n      <td>0</td>\n    </tr>\n    <tr>\n      <th>3</th>\n      <td>4</td>\n      <td>10</td>\n      <td>wheat</td>\n      <td>3</td>\n      <td>4.0</td>\n      <td>0</td>\n    </tr>\n    <tr>\n      <th>4</th>\n      <td>5</td>\n      <td>10</td>\n      <td>wheat</td>\n      <td>4</td>\n      <td>5.0</td>\n      <td>0</td>\n    </tr>\n    <tr>\n      <th>...</th>\n      <td>...</td>\n      <td>...</td>\n      <td>...</td>\n      <td>...</td>\n      <td>...</td>\n      <td>...</td>\n    </tr>\n    <tr>\n      <th>187</th>\n      <td>188</td>\n      <td>40</td>\n      <td>rice</td>\n      <td>13</td>\n      <td>14.0</td>\n      <td>0</td>\n    </tr>\n    <tr>\n      <th>188</th>\n      <td>189</td>\n      <td>40</td>\n      <td>rice</td>\n      <td>14</td>\n      <td>16.0</td>\n      <td>0</td>\n    </tr>\n    <tr>\n      <th>189</th>\n      <td>190</td>\n      <td>40</td>\n      <td>rice</td>\n      <td>16</td>\n      <td>17.0</td>\n      <td>0</td>\n    </tr>\n    <tr>\n      <th>190</th>\n      <td>191</td>\n      <td>40</td>\n      <td>rice</td>\n      <td>17</td>\n      <td>18.0</td>\n      <td>0</td>\n    </tr>\n    <tr>\n      <th>191</th>\n      <td>192</td>\n      <td>40</td>\n      <td>rice</td>\n      <td>18</td>\n      <td>inf</td>\n      <td>12</td>\n    </tr>\n  </tbody>\n</table>\n<p>192 rows × 6 columns</p>\n</div>"
          },
          "metadata": {}
        }
      ]
    },
    {
      "cell_type": "code",
      "source": "rice = germ[germ.species == \"rice\"]",
      "metadata": {
        "trusted": true
      },
      "execution_count": 12,
      "outputs": []
    },
    {
      "cell_type": "code",
      "source": "rice ",
      "metadata": {
        "trusted": true
      },
      "execution_count": 13,
      "outputs": [
        {
          "execution_count": 13,
          "output_type": "execute_result",
          "data": {
            "text/plain": "     Unnamed: 0  temp species  start   end  germinated\n40           41    16    rice      0   2.0           0\n41           42    16    rice      2   3.0           0\n42           43    16    rice      3   4.0           0\n43           44    16    rice      4   5.0           0\n44           45    16    rice      5   6.0           0\n..          ...   ...     ...    ...   ...         ...\n187         188    40    rice     13  14.0           0\n188         189    40    rice     14  16.0           0\n189         190    40    rice     16  17.0           0\n190         191    40    rice     17  18.0           0\n191         192    40    rice     18   inf          12\n\n[79 rows x 6 columns]",
            "text/html": "<div>\n<style scoped>\n    .dataframe tbody tr th:only-of-type {\n        vertical-align: middle;\n    }\n\n    .dataframe tbody tr th {\n        vertical-align: top;\n    }\n\n    .dataframe thead th {\n        text-align: right;\n    }\n</style>\n<table border=\"1\" class=\"dataframe\">\n  <thead>\n    <tr style=\"text-align: right;\">\n      <th></th>\n      <th>Unnamed: 0</th>\n      <th>temp</th>\n      <th>species</th>\n      <th>start</th>\n      <th>end</th>\n      <th>germinated</th>\n    </tr>\n  </thead>\n  <tbody>\n    <tr>\n      <th>40</th>\n      <td>41</td>\n      <td>16</td>\n      <td>rice</td>\n      <td>0</td>\n      <td>2.0</td>\n      <td>0</td>\n    </tr>\n    <tr>\n      <th>41</th>\n      <td>42</td>\n      <td>16</td>\n      <td>rice</td>\n      <td>2</td>\n      <td>3.0</td>\n      <td>0</td>\n    </tr>\n    <tr>\n      <th>42</th>\n      <td>43</td>\n      <td>16</td>\n      <td>rice</td>\n      <td>3</td>\n      <td>4.0</td>\n      <td>0</td>\n    </tr>\n    <tr>\n      <th>43</th>\n      <td>44</td>\n      <td>16</td>\n      <td>rice</td>\n      <td>4</td>\n      <td>5.0</td>\n      <td>0</td>\n    </tr>\n    <tr>\n      <th>44</th>\n      <td>45</td>\n      <td>16</td>\n      <td>rice</td>\n      <td>5</td>\n      <td>6.0</td>\n      <td>0</td>\n    </tr>\n    <tr>\n      <th>...</th>\n      <td>...</td>\n      <td>...</td>\n      <td>...</td>\n      <td>...</td>\n      <td>...</td>\n      <td>...</td>\n    </tr>\n    <tr>\n      <th>187</th>\n      <td>188</td>\n      <td>40</td>\n      <td>rice</td>\n      <td>13</td>\n      <td>14.0</td>\n      <td>0</td>\n    </tr>\n    <tr>\n      <th>188</th>\n      <td>189</td>\n      <td>40</td>\n      <td>rice</td>\n      <td>14</td>\n      <td>16.0</td>\n      <td>0</td>\n    </tr>\n    <tr>\n      <th>189</th>\n      <td>190</td>\n      <td>40</td>\n      <td>rice</td>\n      <td>16</td>\n      <td>17.0</td>\n      <td>0</td>\n    </tr>\n    <tr>\n      <th>190</th>\n      <td>191</td>\n      <td>40</td>\n      <td>rice</td>\n      <td>17</td>\n      <td>18.0</td>\n      <td>0</td>\n    </tr>\n    <tr>\n      <th>191</th>\n      <td>192</td>\n      <td>40</td>\n      <td>rice</td>\n      <td>18</td>\n      <td>inf</td>\n      <td>12</td>\n    </tr>\n  </tbody>\n</table>\n<p>79 rows × 6 columns</p>\n</div>"
          },
          "metadata": {}
        }
      ]
    },
    {
      "cell_type": "code",
      "source": "wheat = germ[germ.species == \"wheat\"]",
      "metadata": {
        "trusted": true
      },
      "execution_count": 14,
      "outputs": []
    },
    {
      "cell_type": "code",
      "source": "wheat",
      "metadata": {
        "trusted": true
      },
      "execution_count": 15,
      "outputs": [
        {
          "execution_count": 15,
          "output_type": "execute_result",
          "data": {
            "text/plain": "     Unnamed: 0  temp species  start   end  germinated\n0             1    10   wheat      0   1.0           0\n1             2    10   wheat      1   2.0           0\n2             3    10   wheat      2   3.0           0\n3             4    10   wheat      3   4.0           0\n4             5    10   wheat      4   5.0           0\n..          ...   ...     ...    ...   ...         ...\n170         171    40   wheat     13  14.0           0\n171         172    40   wheat     14  16.0           0\n172         173    40   wheat     16  17.0           0\n173         174    40   wheat     17  18.0           0\n174         175    40   wheat     18   inf          17\n\n[99 rows x 6 columns]",
            "text/html": "<div>\n<style scoped>\n    .dataframe tbody tr th:only-of-type {\n        vertical-align: middle;\n    }\n\n    .dataframe tbody tr th {\n        vertical-align: top;\n    }\n\n    .dataframe thead th {\n        text-align: right;\n    }\n</style>\n<table border=\"1\" class=\"dataframe\">\n  <thead>\n    <tr style=\"text-align: right;\">\n      <th></th>\n      <th>Unnamed: 0</th>\n      <th>temp</th>\n      <th>species</th>\n      <th>start</th>\n      <th>end</th>\n      <th>germinated</th>\n    </tr>\n  </thead>\n  <tbody>\n    <tr>\n      <th>0</th>\n      <td>1</td>\n      <td>10</td>\n      <td>wheat</td>\n      <td>0</td>\n      <td>1.0</td>\n      <td>0</td>\n    </tr>\n    <tr>\n      <th>1</th>\n      <td>2</td>\n      <td>10</td>\n      <td>wheat</td>\n      <td>1</td>\n      <td>2.0</td>\n      <td>0</td>\n    </tr>\n    <tr>\n      <th>2</th>\n      <td>3</td>\n      <td>10</td>\n      <td>wheat</td>\n      <td>2</td>\n      <td>3.0</td>\n      <td>0</td>\n    </tr>\n    <tr>\n      <th>3</th>\n      <td>4</td>\n      <td>10</td>\n      <td>wheat</td>\n      <td>3</td>\n      <td>4.0</td>\n      <td>0</td>\n    </tr>\n    <tr>\n      <th>4</th>\n      <td>5</td>\n      <td>10</td>\n      <td>wheat</td>\n      <td>4</td>\n      <td>5.0</td>\n      <td>0</td>\n    </tr>\n    <tr>\n      <th>...</th>\n      <td>...</td>\n      <td>...</td>\n      <td>...</td>\n      <td>...</td>\n      <td>...</td>\n      <td>...</td>\n    </tr>\n    <tr>\n      <th>170</th>\n      <td>171</td>\n      <td>40</td>\n      <td>wheat</td>\n      <td>13</td>\n      <td>14.0</td>\n      <td>0</td>\n    </tr>\n    <tr>\n      <th>171</th>\n      <td>172</td>\n      <td>40</td>\n      <td>wheat</td>\n      <td>14</td>\n      <td>16.0</td>\n      <td>0</td>\n    </tr>\n    <tr>\n      <th>172</th>\n      <td>173</td>\n      <td>40</td>\n      <td>wheat</td>\n      <td>16</td>\n      <td>17.0</td>\n      <td>0</td>\n    </tr>\n    <tr>\n      <th>173</th>\n      <td>174</td>\n      <td>40</td>\n      <td>wheat</td>\n      <td>17</td>\n      <td>18.0</td>\n      <td>0</td>\n    </tr>\n    <tr>\n      <th>174</th>\n      <td>175</td>\n      <td>40</td>\n      <td>wheat</td>\n      <td>18</td>\n      <td>inf</td>\n      <td>17</td>\n    </tr>\n  </tbody>\n</table>\n<p>99 rows × 6 columns</p>\n</div>"
          },
          "metadata": {}
        }
      ]
    },
    {
      "cell_type": "code",
      "source": "mungbean = germ[germ.species == \"mungbean\"]",
      "metadata": {
        "trusted": true
      },
      "execution_count": 16,
      "outputs": []
    },
    {
      "cell_type": "code",
      "source": "mungbean",
      "metadata": {
        "trusted": true
      },
      "execution_count": 17,
      "outputs": [
        {
          "execution_count": 17,
          "output_type": "execute_result",
          "data": {
            "text/plain": "    Unnamed: 0  temp   species  start  end  germinated\n17          18    10  mungbean      0  2.0           0\n18          19    10  mungbean      2  3.0           4\n19          20    10  mungbean      3  4.0           0\n20          21    10  mungbean      4  5.0           0\n21          22    10  mungbean      5  6.0           9\n22          23    10  mungbean      6  7.0           7\n23          24    10  mungbean      7  inf           0\n55          56    16  mungbean      0  1.0           0\n56          57    16  mungbean      1  2.0           1\n57          58    16  mungbean      2  3.0           7\n58          59    16  mungbean      3  4.0          12\n59          60    16  mungbean      4  5.0           0\n60          61    16  mungbean      5  6.0           0\n61          62    16  mungbean      5  inf           0",
            "text/html": "<div>\n<style scoped>\n    .dataframe tbody tr th:only-of-type {\n        vertical-align: middle;\n    }\n\n    .dataframe tbody tr th {\n        vertical-align: top;\n    }\n\n    .dataframe thead th {\n        text-align: right;\n    }\n</style>\n<table border=\"1\" class=\"dataframe\">\n  <thead>\n    <tr style=\"text-align: right;\">\n      <th></th>\n      <th>Unnamed: 0</th>\n      <th>temp</th>\n      <th>species</th>\n      <th>start</th>\n      <th>end</th>\n      <th>germinated</th>\n    </tr>\n  </thead>\n  <tbody>\n    <tr>\n      <th>17</th>\n      <td>18</td>\n      <td>10</td>\n      <td>mungbean</td>\n      <td>0</td>\n      <td>2.0</td>\n      <td>0</td>\n    </tr>\n    <tr>\n      <th>18</th>\n      <td>19</td>\n      <td>10</td>\n      <td>mungbean</td>\n      <td>2</td>\n      <td>3.0</td>\n      <td>4</td>\n    </tr>\n    <tr>\n      <th>19</th>\n      <td>20</td>\n      <td>10</td>\n      <td>mungbean</td>\n      <td>3</td>\n      <td>4.0</td>\n      <td>0</td>\n    </tr>\n    <tr>\n      <th>20</th>\n      <td>21</td>\n      <td>10</td>\n      <td>mungbean</td>\n      <td>4</td>\n      <td>5.0</td>\n      <td>0</td>\n    </tr>\n    <tr>\n      <th>21</th>\n      <td>22</td>\n      <td>10</td>\n      <td>mungbean</td>\n      <td>5</td>\n      <td>6.0</td>\n      <td>9</td>\n    </tr>\n    <tr>\n      <th>22</th>\n      <td>23</td>\n      <td>10</td>\n      <td>mungbean</td>\n      <td>6</td>\n      <td>7.0</td>\n      <td>7</td>\n    </tr>\n    <tr>\n      <th>23</th>\n      <td>24</td>\n      <td>10</td>\n      <td>mungbean</td>\n      <td>7</td>\n      <td>inf</td>\n      <td>0</td>\n    </tr>\n    <tr>\n      <th>55</th>\n      <td>56</td>\n      <td>16</td>\n      <td>mungbean</td>\n      <td>0</td>\n      <td>1.0</td>\n      <td>0</td>\n    </tr>\n    <tr>\n      <th>56</th>\n      <td>57</td>\n      <td>16</td>\n      <td>mungbean</td>\n      <td>1</td>\n      <td>2.0</td>\n      <td>1</td>\n    </tr>\n    <tr>\n      <th>57</th>\n      <td>58</td>\n      <td>16</td>\n      <td>mungbean</td>\n      <td>2</td>\n      <td>3.0</td>\n      <td>7</td>\n    </tr>\n    <tr>\n      <th>58</th>\n      <td>59</td>\n      <td>16</td>\n      <td>mungbean</td>\n      <td>3</td>\n      <td>4.0</td>\n      <td>12</td>\n    </tr>\n    <tr>\n      <th>59</th>\n      <td>60</td>\n      <td>16</td>\n      <td>mungbean</td>\n      <td>4</td>\n      <td>5.0</td>\n      <td>0</td>\n    </tr>\n    <tr>\n      <th>60</th>\n      <td>61</td>\n      <td>16</td>\n      <td>mungbean</td>\n      <td>5</td>\n      <td>6.0</td>\n      <td>0</td>\n    </tr>\n    <tr>\n      <th>61</th>\n      <td>62</td>\n      <td>16</td>\n      <td>mungbean</td>\n      <td>5</td>\n      <td>inf</td>\n      <td>0</td>\n    </tr>\n  </tbody>\n</table>\n</div>"
          },
          "metadata": {}
        }
      ]
    },
    {
      "cell_type": "code",
      "source": "",
      "metadata": {},
      "execution_count": null,
      "outputs": []
    }
  ]
}